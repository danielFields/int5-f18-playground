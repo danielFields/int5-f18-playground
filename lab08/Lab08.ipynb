{
 "cells": [
  {
   "cell_type": "code",
   "execution_count": null,
   "metadata": {},
   "outputs": [],
   "source": [
    "# Run this cell, but please don't change it.\n",
    "\n",
    "# These lines import the Numpy and Datascience modules.\n",
    "import numpy as np\n",
    "from datascience import *\n",
    "\n",
    "# These lines do some fancy plotting magic\n",
    "import matplotlib\n",
    "%matplotlib inline\n",
    "import matplotlib.pyplot as plt\n",
    "plt.style.use('fivethirtyeight')\n",
    "import warnings\n",
    "warnings.simplefilter('ignore', FutureWarning)\n",
    "from matplotlib import patches\n",
    "#from ipywidgets import interact, interactive, fixed\n",
    "#import ipywidgets as widgets\n",
    "\n",
    "# These lines load the tests.\n",
    "from client.api.notebook import Notebook\n",
    "ok = Notebook('lab08.ok')\n",
    "_ = ok.auth(inline=True)"
   ]
  },
  {
   "cell_type": "markdown",
   "metadata": {},
   "source": [
    "### Welcome to Lab 8!\n",
    "\n",
    "This notebook is currently under construction. :-)  This message will be updated when the notebook is in the stable condition.\n",
    "\n",
    "The content of this lab is intended mainly as a review of the past three labs and should look very familiar. If you had difficulties with the previous labs, this is your chance to practice again, ask questions, and show us that you learned the materials.\n",
    "\n",
    "If you set `replace_my_grade` to True, we will `max` the score that you got with the last three labs, and update your grade accordingly. If you don't want us to do that, then just solve questions after Question 3 to get the credit for Lab 8."
   ]
  },
  {
   "cell_type": "code",
   "execution_count": null,
   "metadata": {},
   "outputs": [],
   "source": [
    "replace_my_grade = ... # True / False"
   ]
  },
  {
   "cell_type": "markdown",
   "metadata": {},
   "source": [
    "## 1. Skittles and Conditionals"
   ]
  },
  {
   "cell_type": "markdown",
   "metadata": {},
   "source": [
    "In Python, Boolean values can either be `True` or `False`, as we have covered before. We will be reviewing comparison operators, among which are `<`, `>`, and `==`. For a longer list, refer to the Booleans and Comparison section in the book [here](https://www.inferentialthinking.com/chapters/09/randomness.html#Booleans-and-Comparison). \n",
    "\n",
    "Let's run the cell below to see how a comparison operator works."
   ]
  },
  {
   "cell_type": "code",
   "execution_count": null,
   "metadata": {},
   "outputs": [],
   "source": [
    "5 > 2 + 1"
   ]
  },
  {
   "cell_type": "markdown",
   "metadata": {},
   "source": [
    "We can even assign the result of a comparison operation to a variable!"
   ]
  },
  {
   "cell_type": "code",
   "execution_count": null,
   "metadata": {},
   "outputs": [],
   "source": [
    "result = (6/3 == 2)\n",
    "result"
   ]
  },
  {
   "cell_type": "markdown",
   "metadata": {},
   "source": [
    "Arrays are also compatible with comparison operators. The output would be an array of boolean values, where 'True' would indicate that the value in the array is indeed less than four (i.e., our conditional)."
   ]
  },
  {
   "cell_type": "code",
   "execution_count": null,
   "metadata": {},
   "outputs": [],
   "source": [
    "make_array(4, 6, 3, 5, 1, -5) < 4"
   ]
  },
  {
   "cell_type": "markdown",
   "metadata": {},
   "source": [
    "One of your friends loves Skittles so much that they just bought you and your friends a big bag of Skittles to snack on while studying. The flavors and colors of Skittles are Grape (purple), Lemon (yellow), Green Apple (green), Orange (orange), and Strawberry (red).\n",
    "\n",
    "Using the function call `np.random.choice(array_name)`, let's simulate taking Skittles from the bag at random. Run the cell below a couple of times and see how the results change."
   ]
  },
  {
   "cell_type": "code",
   "execution_count": null,
   "metadata": {},
   "outputs": [],
   "source": [
    "skittles = make_array('purple', 'yellow', 'green', 'orange', 'red')\n",
    "np.random.choice(skittles)"
   ]
  },
  {
   "cell_type": "markdown",
   "metadata": {},
   "source": [
    "**Question 1.** You just took a handful of ten skittles from the bag at random, and stored the results in the array `ten_skittles` in the next cell. Find the number of skittles that are red (do not hardcode!).\n",
    "\n",
    "*Hint:* Our solution involves a comparison operator and the `np.count_nonzero` method."
   ]
  },
  {
   "cell_type": "code",
   "execution_count": null,
   "metadata": {},
   "outputs": [],
   "source": [
    "#Let's grab 10 random skittles from the bag\n",
    "ten_skittles = ...\n",
    "\n",
    "#How many red skittles are there?\n",
    "number_red = ...\n",
    "number_red"
   ]
  },
  {
   "cell_type": "code",
   "execution_count": null,
   "metadata": {},
   "outputs": [],
   "source": [
    "_ = ok.grade('q1_1')"
   ]
  },
  {
   "cell_type": "markdown",
   "metadata": {},
   "source": [
    "**Conditional Statements.**\n",
    "Remember, that a conditional statement allows Python to choose from different blocks of code base on whether some condition is true.\n",
    "\n",
    "For example: \n",
    "\n",
    "```\n",
    "def sign(x):\n",
    "    if x > 0:\n",
    "        return 'Positive'\n",
    "```\n",
    "\n",
    "The way the function works is this: if the input `x` is greater than `0`, we get the string `'Positive'` back.\n",
    "\n",
    "If we want to test multiple conditions at once, we use the general format: \n",
    "\n",
    "\n",
    "```\n",
    "if <if expression>:\n",
    "    <if body>\n",
    "elif <elif expression 0>:\n",
    "    <elif body 0>\n",
    "...\n",
    "else:\n",
    "    <else body>\n",
    "```\n",
    "Only one of the `<elif body>` statements will ever be executed. Each `if` and `elif` expression is evaluated and considered in order, starting at the top. As soon as a true value is found, the corresponding body is executed, and the rest of the expression is skipped. If none of the `if` or `elif` expressions are true, then the `else body` is executed. For more examples and explanation, refer to [Section 9.1](https://www.inferentialthinking.com/chapters/09/1/conditional-statements.html).\n"
   ]
  },
  {
   "cell_type": "markdown",
   "metadata": {},
   "source": [
    "**Question 2.** Let's define a function called `grab_more` that returns `'Yes please'` if the number of red Skittles in `ten_skittles` is less than `4` and `'I'm okay'` if there are `4` or more red Skittles."
   ]
  },
  {
   "cell_type": "code",
   "execution_count": null,
   "metadata": {},
   "outputs": [],
   "source": [
    "def grab_more(skittles):\n",
    "    ...\n",
    "    if ...:\n",
    "        return 'I\\'m okay'\n",
    "    # next condition should return 'Yes please'\n",
    "\n",
    "grab_reaction = grab_more(ten_skittles)"
   ]
  },
  {
   "cell_type": "code",
   "execution_count": null,
   "metadata": {},
   "outputs": [],
   "source": [
    "_ = ok.grade('q1_2')"
   ]
  },
  {
   "cell_type": "markdown",
   "metadata": {},
   "source": [
    "**Question 3.** Write a function called `skittle_reaction` that returns a string based on the color of Skittle passed in as an argument. From top to bottom, the conditions should correspond to: `'purple'`, `'yellow'`, `'green'`, `'orange'`, `'red'`.  "
   ]
  },
  {
   "cell_type": "code",
   "execution_count": null,
   "metadata": {},
   "outputs": [],
   "source": [
    "def skittle_reaction(skittle):\n",
    "    if ...:\n",
    "        return 'Okay'\n",
    "    # next condition should return 'Mm'\n",
    "    ...\n",
    "    # next condition should return 'Bleh'\n",
    "    ...\n",
    "    # next condition should return 'Hmm'\n",
    "    ...\n",
    "    # next condition should return 'Yum!'\n",
    "    ...\n",
    "\n",
    "best_skittle = skittle_reaction('red')\n",
    "best_skittle"
   ]
  },
  {
   "cell_type": "code",
   "execution_count": null,
   "metadata": {},
   "outputs": [],
   "source": [
    "_ = ok.grade('q1_3')"
   ]
  },
  {
   "cell_type": "markdown",
   "metadata": {},
   "source": [
    "**Question 4.** Create a table called `ten_skittles_reactions` with one column called `Skittles` for your `ten_skittles` and a column `'Reactions'` that consists of reactions for each of the skittles in `ten_skittles`. \n",
    "\n",
    "*Hint:* Use the `apply` method. "
   ]
  },
  {
   "cell_type": "code",
   "execution_count": null,
   "metadata": {},
   "outputs": [],
   "source": [
    "ten_skittles_reactions = ...\n",
    "ten_skittles_reactions"
   ]
  },
  {
   "cell_type": "code",
   "execution_count": null,
   "metadata": {},
   "outputs": [],
   "source": [
    "_ = ok.grade('q1_4')"
   ]
  },
  {
   "cell_type": "markdown",
   "metadata": {},
   "source": [
    "**Question 5.** Using code, find the number of `'Yum!'` reactions for the skittles in `ten_skittles_reactions`"
   ]
  },
  {
   "cell_type": "code",
   "execution_count": null,
   "metadata": {},
   "outputs": [],
   "source": [
    "number_yum_reactions = ...\n",
    "number_yum_reactions"
   ]
  },
  {
   "cell_type": "code",
   "execution_count": null,
   "metadata": {},
   "outputs": [],
   "source": [
    "_ = ok.grade('q1_5')"
   ]
  },
  {
   "cell_type": "markdown",
   "metadata": {},
   "source": [
    "**Question 6.** Complete the function `yum_or_bummed`, which takes in a table of Skittles with reactions (just like the one from Question 4) and returns `'Yes!'` if there are more red Skittles, or `'Bleh.'` if there are more green Skittles. If there are an equal number of each, return `'Alright!'`."
   ]
  },
  {
   "cell_type": "code",
   "execution_count": null,
   "metadata": {},
   "outputs": [],
   "source": [
    "def yum_or_bummed(skittle_table):\n",
    "    reactions = ...\n",
    "    number_yum_reactions = ...\n",
    "    number_bleh_reactions = ...\n",
    "    if ...:\n",
    "        return 'Yes!!'\n",
    "    # next condition should return 'Bleh.'\n",
    "    ...\n",
    "    # next condition should return 'Alright!'\n",
    "    ..."
   ]
  },
  {
   "cell_type": "code",
   "execution_count": null,
   "metadata": {},
   "outputs": [],
   "source": [
    "table_reaction = ..."
   ]
  },
  {
   "cell_type": "markdown",
   "metadata": {},
   "source": [
    "**Question 7.** Let's create a table called `many_skittles` with one column called `Skittles` that contains `100` random Skittles and another column called `Reactions` that contains all the reactions for each of the `100` random Skittles. Then, use `yum_or_bummed` to see if your handfull of `100` random Skittles will be a delicious snack or not."
   ]
  },
  {
   "cell_type": "code",
   "execution_count": null,
   "metadata": {},
   "outputs": [],
   "source": [
    "#Create a table with 100 random skittles\n",
    "many_skittles = Table().with_column(...)\n",
    "\n",
    "#Add a column for the reactions\n",
    "many_skittles = many_skittles.with_column(...)\n",
    "\n",
    "#Test out your function yum_or_bummed!\n",
    "result = ...\n",
    "result"
   ]
  },
  {
   "cell_type": "code",
   "execution_count": null,
   "metadata": {},
   "outputs": [],
   "source": [
    "_ = ok.grade('q1_6_7')"
   ]
  },
  {
   "cell_type": "markdown",
   "metadata": {},
   "source": [
    "## Question 2. Simulations\n",
    "Practice using `for` statements to perform a task multiple times. Recall, this is known as iteration. "
   ]
  },
  {
   "cell_type": "markdown",
   "metadata": {},
   "source": [
    "**Question 2.1.** Once again, Clay is playing darts, but this time it's against his friend Jimmy. Recall that his dartboard contains ten equal-sized zones with point values from 1 to 10. Write code that simulates whether Clay or Jimmy wins after 100 dart throws. Make sure to use a `for` loop.\n",
    "\n",
    "Possible outcomes for winner are: `'Clay'`, `'Jimmy'`, or  `'neither'` \n",
    "\n",
    "*Hint:* There are a few steps to this problem (and most simulations): \n",
    "1. Figuring out the big picture of what we want to simulate (the total score for each of them after 100 dart throws)\n",
    "2. Deciding the possible values you can take in the experiment (point values in this case) and simulating one example (throwing one dart)\n",
    "3. Deciding how many times to run through the experiment (100 throws in our case) and keeping track of the total information of each time you ran through the experiment (the total score in this case)\n",
    "4. Comparing the total scores to figure out who won (Don't forget to consider the possibility that they tie)\n",
    "5. Coding up the whole simulation!"
   ]
  },
  {
   "cell_type": "code",
   "execution_count": null,
   "metadata": {},
   "outputs": [],
   "source": [
    "possible_point_values = ...\n",
    "throws = 100\n",
    "C_total_score = ...\n",
    "J_total_score = ...\n",
    "winner = ''\n",
    "\n",
    "# a for loop would be useful here (Clay's total score)\n",
    "\n",
    "\n",
    "\n",
    "# a for loop would be useful here (Jimmy's total score)\n",
    "\n",
    "\n",
    "# write some comparisons to see who's score is bigger\n",
    "winner"
   ]
  },
  {
   "cell_type": "code",
   "execution_count": null,
   "metadata": {},
   "outputs": [],
   "source": [
    "_ = ok.grade('q2_1')"
   ]
  },
  {
   "cell_type": "markdown",
   "metadata": {},
   "source": [
    "**Question 2.2.** In the following cell, we've loaded the text of _Pride and Prejudice_ by Jane Austen, split it into individual words, and stored these words in an array (that we called `p_and_p_words`). Using a `for` loop, assign `longer_than_fifteen` to the number of words in the novel that are more than 15 letters long."
   ]
  },
  {
   "cell_type": "code",
   "execution_count": null,
   "metadata": {},
   "outputs": [],
   "source": [
    "austen_string = open('Austen_PrideAndPrejudice.txt', encoding='utf-8').read()\n",
    "p_and_p_words = np.array(austen_string.split())\n",
    "\n",
    "longer_than_fifteen = ...\n",
    "\n",
    "# a for loop would be useful here\n",
    "\n",
    "\n",
    "longer_than_fifteen"
   ]
  },
  {
   "cell_type": "code",
   "execution_count": null,
   "metadata": {},
   "outputs": [],
   "source": [
    "_ = ok.grade('q2_2')"
   ]
  },
  {
   "cell_type": "markdown",
   "metadata": {},
   "source": [
    "**Question 2.3.** Using simulation with 1,000,000 trials, assign `chance_greater_15` to an estimate of the chance that if you pick a word from _Pride and Prejudice_ uniformly at random (with replacement), the length of the word is greater than 15. \n",
    "\n",
    "*This may take a minute to run*"
   ]
  },
  {
   "cell_type": "code",
   "execution_count": null,
   "metadata": {},
   "outputs": [],
   "source": [
    "trials = 1000000\n",
    "greater_fifteen = ...\n",
    "\n",
    "for ... in ...:\n",
    "    ...\n",
    "\n",
    "chance_greater_15 = ...\n",
    "\n",
    "chance_greater_15"
   ]
  },
  {
   "cell_type": "code",
   "execution_count": null,
   "metadata": {},
   "outputs": [],
   "source": [
    "_ = ok.grade('q2_3')"
   ]
  },
  {
   "cell_type": "markdown",
   "metadata": {},
   "source": [
    "Notice that the value you get for **Question 2.3.** is close to what you would get if you divided the value from **Question 2.2.** by the total length of words in Pride and Prejudice. In essense, this means that if you didn't have access to the entire book and could only sample different pages, your simulated statistic could give you a good approximation of the true population statistic.\n",
    "\n",
    "Run the following cell to check and see for yourself!"
   ]
  },
  {
   "cell_type": "code",
   "execution_count": null,
   "metadata": {},
   "outputs": [],
   "source": [
    "print('The chance a word has a length greater than fifteen is:',chance_greater_15)\n",
    "print('And the percentage of words with a length greater than 15 is: ',longer_than_fifteen/len(p_and_p_words))"
   ]
  },
  {
   "cell_type": "markdown",
   "metadata": {},
   "source": [
    "**Question 2.4.** LeBron James is drafting Basketball Players for his NBA Fantasy League. He chooses 10 players randomly from a list of players, and drafts the player regardless of whether the player has been chosen before (You could have 10 Kevin Durant's on a team!). He does this 100 times (100 drafts with each draft consisting of 10 players). Count how many times Kevin Durant the first pick? \n",
    "\n",
    "*Hint* You may try using a nested `for` loop (this is not the only way to do it)"
   ]
  },
  {
   "cell_type": "code",
   "execution_count": null,
   "metadata": {
    "scrolled": true
   },
   "outputs": [],
   "source": [
    "players = [\"John Wall\", \"Kevin Durant\", \"Kyrie Irving\", \"Joel Embiid\", \"Russell Westbrook\"]\n",
    "draft_picks = ... #array of size 100 containing teams of size 10\n",
    "num_durant_first = ...\n",
    "\n",
    "#create draft_picks\n",
    "for ... in ...:\n",
    "\n",
    "#check how many times Kevin Durant is the first pick\n",
    "for ... in ...:\n",
    "\n",
    "num_durant_first"
   ]
  },
  {
   "cell_type": "code",
   "execution_count": null,
   "metadata": {},
   "outputs": [],
   "source": [
    "_ = ok.grade('q2_4')"
   ]
  },
  {
   "cell_type": "markdown",
   "metadata": {},
   "source": [
    "## 3. Analyzing Data: Majors at UCSB"
   ]
  },
  {
   "cell_type": "markdown",
   "metadata": {},
   "source": [
    "In the 2016-17 school year, 5,809 UCSB students graduated from the university with a total of 95 different majors ([Source for this dataset: UCSB's Office of Budget and Planning](http://bap.ucsb.edu/institutional.research/planning.data.book/tables/degrees.conferred.history.by.major.pdf)). The most popular major was Psychology (B.A.) with 513 students choosing Psych as their major of choice. Six major programs only had one graduating student, including Geophysics and Portuguese. \n",
    "\n",
    "Run this cell to see a full list of all the majors available at UCSB. Note: Some majors are listed twice and considered to be different because they are offered as both a Bachelor of Arts (B.A.) and a Bachelor of Science (B.S.) degree."
   ]
  },
  {
   "cell_type": "code",
   "execution_count": null,
   "metadata": {},
   "outputs": [],
   "source": [
    "major_data = Table().read_table(\"major_data.csv\")\n",
    "major_data"
   ]
  },
  {
   "cell_type": "markdown",
   "metadata": {},
   "source": [
    "Change the three dots below to your current or intended major and then run the cell below to see how many students graduated with your current major in 2017. You can run the `sort` function with the `distinct` parameter on the `'Major'` column to look for the correct spelling if your major is not appearing in the table. If you are currently undeclared, choose a major you hope to pursue."
   ]
  },
  {
   "cell_type": "code",
   "execution_count": null,
   "metadata": {
    "scrolled": true
   },
   "outputs": [],
   "source": [
    "major_data.where(\"Major\", are.equal_to(\"...\"))"
   ]
  },
  {
   "cell_type": "markdown",
   "metadata": {},
   "source": [
    "**Question 3.1**  Use the data to identify the ten most popular majors at UCSB. Make an array called `top_ten` that contains the data for only the ten most popular majors, starting with the most popular major first."
   ]
  },
  {
   "cell_type": "code",
   "execution_count": null,
   "metadata": {},
   "outputs": [],
   "source": [
    "top_ten = ...\n",
    "top_ten"
   ]
  },
  {
   "cell_type": "code",
   "execution_count": null,
   "metadata": {},
   "outputs": [],
   "source": [
    "_ = ok.grade('q3_1')"
   ]
  },
  {
   "cell_type": "markdown",
   "metadata": {},
   "source": [
    "**Question 3.2** You may notice that none of the top ten majors are majors within the College of Engineering (CoE). The CoE is relatively small compared to the College of Letters and Science. Make an array called `engineering` that contains only the data for the majors within the College of Engineering.\n",
    "\n",
    "**Hint 1:** In 2016-17, there were five majors within the College of Engineering: Chemical Engineering, Computer Engineering, Computer Science, Electrical Engineering, and Mechanical Engineering.\n",
    "\n",
    "**Hint 2:** Computer Science may appear twice because the major used to be offered in the College of Letters & Science in addition to within the engineering department, but the major is no longer offered within Letters and Sciences."
   ]
  },
  {
   "cell_type": "code",
   "execution_count": null,
   "metadata": {},
   "outputs": [],
   "source": [
    "engineering = ...\n",
    "engineering"
   ]
  },
  {
   "cell_type": "code",
   "execution_count": null,
   "metadata": {},
   "outputs": [],
   "source": [
    "_ = ok.grade('q3_2')"
   ]
  },
  {
   "cell_type": "markdown",
   "metadata": {},
   "source": [
    "Next, let's analyze historical data to look for possible trends in the majors that students have selected over the years. Run the next cell to see how many students graduated from a selection of six different majors in the 1980-1981 school year."
   ]
  },
  {
   "cell_type": "code",
   "execution_count": null,
   "metadata": {},
   "outputs": [],
   "source": [
    "majors_1980 = [\"Computer Science\", \"Electrical Engineering\", \"Geography\", \"Linguistics\", \"Communication\", \"Statistical Science\"]\n",
    "graduates_1980 = [21, 91, 66, 6, 125, 0]\n",
    "\n",
    "data_1980 = Table().with_columns(\"Majors\", 1980_majors, \"1980 Graduates\", 1980_graduates)\n",
    "data_1980.show()"
   ]
  },
  {
   "cell_type": "markdown",
   "metadata": {},
   "source": [
    "Let's compare the above numbers from 1980 with the numbers from 2017."
   ]
  },
  {
   "cell_type": "code",
   "execution_count": null,
   "metadata": {},
   "outputs": [],
   "source": [
    "majors_2017 = [\"Computer Science\", \"Electrical Engineering\", \"Geography\", \"Linguistics\", \"Communication\", \"Statistical Science\"]\n",
    "graduates_2017 = [91, 51, 56, 56, 389, 121]\n",
    "\n",
    "data_2017 = Table().with_columns(\"Majors\", 2017_majors, \"2017 Graduates\", 2017_graduates)\n",
    "data_2017.show()"
   ]
  },
  {
   "cell_type": "markdown",
   "metadata": {},
   "source": [
    "**Question 3.3** Use the `join` method to join these two tables together so each row contains the major, the number of 1980 graduates and then the number of 2017 graduates. Save this new table into the variable `major_data`."
   ]
  },
  {
   "cell_type": "code",
   "execution_count": null,
   "metadata": {},
   "outputs": [],
   "source": [
    "major_data = ...\n",
    "major_data"
   ]
  },
  {
   "cell_type": "code",
   "execution_count": null,
   "metadata": {},
   "outputs": [],
   "source": [
    "_ = ok.grade('q3_3')"
   ]
  },
  {
   "cell_type": "markdown",
   "metadata": {},
   "source": [
    "**Question 3.4** You should notice some trends by looking at the table you just made. Out of the six majors shown, which majors were more popular in 2017 than in 1980? Which were less popular?"
   ]
  },
  {
   "cell_type": "markdown",
   "metadata": {},
   "source": [
    "<hr style=\"color:Maroon;background-color:Maroon;border:0 none; height: 3px;\">\n",
    "Replace this text with your answer\n",
    "<hr style=\"color:Maroon;background-color:Maroon;border:0 none; height: 3px;\">"
   ]
  },
  {
   "cell_type": "markdown",
   "metadata": {},
   "source": [
    "## 4. Hypothesis Testing"
   ]
  },
  {
   "cell_type": "markdown",
   "metadata": {},
   "source": [
    "## Cookie Questions\n",
    "\n",
    "Cookie Monster owns a cookie factory. His factory produces cookie flavors in the following proportions:\n",
    "\n",
    "\n",
    "| Sugar | Chocolate Chip | Trash |\n",
    "|---|---|---|\n",
    "| 0.2 | 0.6 | 0.2|\n",
    "\n",
    "Sam is unhappy that his box of 10 cookies had 4 Trash-flavored cookies in it. However, he doesn’t remember whether he got his cookies from Cookie Monster’s factory or another factory. You decide to run a hypothesis test to figure out whether Sam’s box came from Cookie Monster’s factory or not."
   ]
  },
  {
   "cell_type": "markdown",
   "metadata": {},
   "source": [
    "**Null Hypothesis**: _Replace this text with the hypothesis._\n",
    "\n",
    "### Test Statistic\n",
    "As a test statistic,you choose to compare **the proportion** of Trash-flavored cookies in boxes of 10 cookies. Complete the lines below to compute a single test statistic using a random sample from the population, storing the value into `test_stat`. "
   ]
  },
  {
   "cell_type": "code",
   "execution_count": null,
   "metadata": {},
   "outputs": [],
   "source": [
    "outcomes = make_array(...)\n",
    "sample = np.random.choice(outcomes, ...)\n",
    "test_stat = ... # see above"
   ]
  },
  {
   "cell_type": "markdown",
   "metadata": {},
   "source": [
    "## Simulation\n",
    "\n",
    "Let us now simulate the creation of virtual cookie boxes from Cookie Monster's factory and compute **the proportion** of Trash-flavored cookies in boxes of 10 cookies."
   ]
  },
  {
   "cell_type": "code",
   "execution_count": null,
   "metadata": {},
   "outputs": [],
   "source": [
    "num_repetitions = ...\n",
    "cookie_proportions = ...\n",
    "\n",
    "# a for loop would be useful here\n",
    "\n"
   ]
  },
  {
   "cell_type": "markdown",
   "metadata": {},
   "source": [
    "We can now get back to our observed sample: Sam's box.\n",
    "What was the value of the sample statistic, i.e., the proportion of Trash-flavored cookies for Sam's box of 10 cookies?"
   ]
  },
  {
   "cell_type": "code",
   "execution_count": null,
   "metadata": {},
   "outputs": [],
   "source": [
    "sample_statistic = ..."
   ]
  },
  {
   "cell_type": "markdown",
   "metadata": {},
   "source": [
    "Let's generate a histogram corresponding to the probability distribution of the test statistic. This diagram will illustrate how much you can expect **the proportion** of Trash-flavored cookies in boxes of 10 cookies to vary."
   ]
  },
  {
   "cell_type": "code",
   "execution_count": null,
   "metadata": {},
   "outputs": [],
   "source": [
    "Table().with_column(\"Proportion of Trash-Flavored Cookies\", cookie_proportions).hist()\n",
    "plt.axvline(x=sample_statistic, color = \"red\");"
   ]
  },
  {
   "cell_type": "markdown",
   "metadata": {},
   "source": [
    "How many boxes in your simulation had more than Sam's number of Trash-flavored cookies? You can compute it using the table you generated during the simulation (and visualized with the histogram above)."
   ]
  },
  {
   "cell_type": "code",
   "execution_count": null,
   "metadata": {},
   "outputs": [],
   "source": [
    "p_value = cookie_proportions.where() / ...\n",
    "p_value"
   ]
  },
  {
   "cell_type": "markdown",
   "metadata": {},
   "source": [
    "You can now draw your conclusion on whether Sam's box came from the Cookie Monster's factory. Do you reject the Null Hypothesis or fail to reject it?"
   ]
  },
  {
   "cell_type": "code",
   "execution_count": null,
   "metadata": {},
   "outputs": [],
   "source": [
    "cookie_result = ['Reject', 'Fail to reject']"
   ]
  },
  {
   "cell_type": "markdown",
   "metadata": {},
   "source": [
    "## Counting Marbles\n",
    "\n",
    "You are on a game-show to win a car. The host points you to two identical boxes and gives you two bowls with 100 marbles: in one are 50 red marbles, in the other, 50 are black. You have a choice of how you distribute the marbles between the two boxes. Once you are done, the host will blindfold you and spin both you and the boxes around. While blindfolded you will choose one marble from the box. If you choose a red marble, you win a car; if the marble you choose is black, you win nothing.\n",
    "\n",
    "**How do you distribute the marbles between the two boxes to maximize the probability that you will choose a red marble?**"
   ]
  },
  {
   "cell_type": "code",
   "execution_count": null,
   "metadata": {},
   "outputs": [],
   "source": [
    "num_red = 50\n",
    "num_black = 50\n",
    "bin1 = ...\n",
    "bin2 = ...\n",
    "# Compute the probability that you will choose a red marble\n",
    "prob_red = ..."
   ]
  },
  {
   "cell_type": "markdown",
   "metadata": {},
   "source": [
    "**Extra Credit**: How would you go about computing which distribution will give you the max probability?"
   ]
  },
  {
   "cell_type": "code",
   "execution_count": null,
   "metadata": {},
   "outputs": [],
   "source": [
    "# Type your solution here\n",
    "\n"
   ]
  },
  {
   "cell_type": "code",
   "execution_count": null,
   "metadata": {},
   "outputs": [],
   "source": []
  }
 ],
 "metadata": {
  "kernelspec": {
   "display_name": "Python 3",
   "language": "python",
   "name": "python3"
  },
  "language_info": {
   "codemirror_mode": {
    "name": "ipython",
    "version": 3
   },
   "file_extension": ".py",
   "mimetype": "text/x-python",
   "name": "python",
   "nbconvert_exporter": "python",
   "pygments_lexer": "ipython3",
   "version": "3.7.0"
  }
 },
 "nbformat": 4,
 "nbformat_minor": 2
}
